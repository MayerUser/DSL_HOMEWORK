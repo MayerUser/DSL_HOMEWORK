{
  "cells": [
    {
      "cell_type": "markdown",
      "metadata": {
        "id": "view-in-github",
        "colab_type": "text"
      },
      "source": [
        "<a href=\"https://colab.research.google.com/github/MayerUser/DSL_HOMEWORK/blob/main/T01_Basys3_LogicGate.ipynb\" target=\"_parent\"><img src=\"https://colab.research.google.com/assets/colab-badge.svg\" alt=\"Open In Colab\"/></a>"
      ]
    },
    {
      "cell_type": "markdown",
      "metadata": {
        "id": "N9HQ5uAudE4i"
      },
      "source": [
        "# T01: Basic Logic Gates on Basys 3 (T01_Basys3_LogicGate)\n",
        "\n",
        "## Objectives:\n",
        "Design and implement basic logic gates (NOT, AND, OR, XOR, NAND, NOR, XNOR) on the Basys 3 FPGA board using Verilog. Use switches `sw[0]` and `sw[1]` as inputs and LEDs `led[7:0]` to display the output of each gate. Demonstrate the input-output relationship using a truth table.\n",
        "\n",
        "---\n",
        "\n",
        "## Features:\n",
        "1. **Inputs**:  \n",
        "   - `sw[0]` (Input A)  \n",
        "   - `sw[1]` (Input B)  \n",
        "2. **Outputs**:  \n",
        "   - Use `led[0]` to `led[7]` to represent the output of each logic gate (see table below).  \n",
        "3. **Truth Table**:\n",
        "\n",
        "| sw[1] (B) | sw[0] (A) | NOT A (led[0]) | NOT B (led[1]) | AND (led[2]) | OR (led[3]) | NOR (led[4]) | NAND (led[5]) | XOR (led[6]) | XNOR (led[7]) |\n",
        "|:---------:|:---------:|:--------------:|:--------------:|:-----------:|:----------:|:-----------:|:------------:|:-----------:|:------------:|\n",
        "| 0         | 0         | 1              | 1              | 0           | 0          | 1           | 1            | 0           | 1            |\n",
        "| 0         | 1         | 0              | 1              | 0           | 1          | 0           | 1            | 1           | 0            |\n",
        "| 1         | 0         | 1              | 0              | 0           | 1          | 0           | 1            | 1           | 0            |\n",
        "| 1         | 1         | 0              | 0              | 1           | 1          | 0           | 0            | 0           | 1            |\n",
        "\n",
        "---\n",
        "\n",
        "## Instructions  \n",
        "### FPGA Project  \n",
        "1. **Create a new Vivado project** for the Basys 3 board.  \n",
        "2. **Write Verilog code** to implement the logic gates, mapping `sw[0]` and `sw[1]` as inputs and `led[0]` to `led[7]` as outputs.  \n",
        "3. **Map the design** to the Basys 3 board’s switches and LEDs using a `.xdc` constraint file.  \n",
        "4. **Generate the bitstream**, program the FPGA, and test the logic gates.  \n",
        "\n",
        "---\n",
        "\n",
        "### Simulation  \n",
        "1. **Write a testbench** to verify all gate behaviors across all input combinations.  \n",
        "2. **Simulate** the design and confirm outputs match the truth table.  \n",
        "\n",
        "---\n",
        "\n",
        "## Submission:  \n",
        "1. A self-contained `ipynb` file with:  \n",
        "   - **Verilog code** (module, testbench, and waveform screenshots).  \n",
        "   - **Google Colab/GitHub link** for collaboration.  \n",
        "   - **Demo video** (showing switch inputs and LED outputs).  \n",
        "   - **Brief report** documenting design steps, challenges, and lessons learned.\n",
        "   - The report should present how AI is used in the design (if applicable). The guideline: [![Open in Colab](https://colab.research.google.com/assets/colab-badge.svg)](https://github.com/pe8sutd/Colab_DSL_Practice25/blob/main/G01_Used_of_AI_in_Design.ipynb)\n",
        "     \n",
        "2. Submit to **edimension** and share with instructor GitHub: `pe8sutd`.  \n",
        "\n",
        "---\n",
        "\n",
        "## Deadline:  \n",
        "Refer to the due date in the **edimension submission folder**.  \n",
        "\n",
        "---\n",
        "\n",
        "## Grading:  \n",
        "- Correct implementation of all logic gates.  \n",
        "- Accuracy of truth table and simulation results.  \n",
        "- Code readability and constraint file correctness.\n",
        "\n",
        "---\n",
        "\n",
        "\n"
      ]
    },
    {
      "cell_type": "markdown",
      "source": [
        "## Demo"
      ],
      "metadata": {
        "id": "ry2RShl0zumm"
      }
    },
    {
      "cell_type": "markdown",
      "source": [
        "Show the LEDs updating in real-time as switches `sw[0]` and `sw[1]` toggle.\n",
        "\n",
        "### SW[1:0] = 2'b00\n",
        "![SW00](https://github.com/pe8sutd/Colab_DSL_Practice/blob/main/figure/T01_sw00.jpg?raw=1)\n",
        "\n",
        "### SW[1:0] = 2'b01\n",
        "![SW01](https://github.com/pe8sutd/Colab_DSL_Practice/blob/main/figure/T01_sw01.jpg?raw=1)\n",
        "\n",
        "### SW[1:0] = 2'b10\n",
        "![SW10](https://github.com/pe8sutd/Colab_DSL_Practice/blob/main/figure/T01_sw10.jpg?raw=1)\n",
        "\n",
        "### SW[1:0] = 2'b11\n",
        "![SW11](https://github.com/pe8sutd/Colab_DSL_Practice/blob/main/figure/T01_sw11.jpg?raw=1)"
      ],
      "metadata": {
        "id": "zNCb9Nu2zicX"
      }
    }
  ],
  "metadata": {
    "colab": {
      "provenance": [],
      "include_colab_link": true
    },
    "language_info": {
      "name": "python"
    }
  },
  "nbformat": 4,
  "nbformat_minor": 0
}